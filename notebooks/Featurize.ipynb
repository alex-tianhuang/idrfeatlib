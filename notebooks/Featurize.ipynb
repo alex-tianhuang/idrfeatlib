{
  "nbformat": 4,
  "nbformat_minor": 0,
  "metadata": {
    "colab": {
      "provenance": [],
      "authorship_tag": "ABX9TyOQ8y1HZrYjszZ+xnwm5c3g",
      "include_colab_link": true
    },
    "kernelspec": {
      "name": "python3",
      "display_name": "Python 3"
    },
    "language_info": {
      "name": "python"
    }
  },
  "cells": [
    {
      "cell_type": "markdown",
      "metadata": {
        "id": "view-in-github",
        "colab_type": "text"
      },
      "source": [
        "<a href=\"https://colab.research.google.com/github/alex-tianhuang/idrfeatlib/blob/main/notebooks/Featurize.ipynb\" target=\"_parent\"><img src=\"https://colab.research.google.com/assets/colab-badge.svg\" alt=\"Open In Colab\"/></a>"
      ]
    },
    {
      "cell_type": "markdown",
      "source": [
        "Welcome to featurize.ipynb, a quick and easy colab notebook for computing some sequence features over a file of IDRs.\n",
        "\n",
        "To use this notebook for the first time, hover your mouse over the top left corner (around where the play buttons are) of each cell to run it. Just run each of the three cells in order and respond to the prompts below.\n",
        "\n",
        "To reuse this notebook, keep running the last cell and responding to the prompts differently or uploading different files."
      ],
      "metadata": {
        "id": "fhhwrXblt8Yh"
      }
    },
    {
      "cell_type": "code",
      "source": [
        "# Setup environment by downloading and installing the idrfeatlib repo\n",
        "#\n",
        "# You only need to run this once\n",
        "!file idrfeatlib/ && rm -rf idrfeatlib\n",
        "!git clone https://github.com/alex-tianhuang/idrfeatlib\n",
        "!pip install idrfeatlib/"
      ],
      "metadata": {
        "colab": {
          "base_uri": "https://localhost:8080/",
          "height": 490
        },
        "id": "ZNBlM51RZiZT",
        "outputId": "2de5386f-4076-4d9c-f8b0-e386a9d62cae"
      },
      "execution_count": 6,
      "outputs": [
        {
          "output_type": "stream",
          "name": "stdout",
          "text": [
            "idrfeatlib/: directory\n",
            "Cloning into 'idrfeatlib'...\n",
            "remote: Enumerating objects: 416, done.\u001b[K\n",
            "remote: Counting objects: 100% (416/416), done.\u001b[K\n",
            "remote: Compressing objects: 100% (250/250), done.\u001b[K\n",
            "remote: Total 416 (delta 184), reused 361 (delta 129), pack-reused 0 (from 0)\u001b[K\n",
            "Receiving objects: 100% (416/416), 5.30 MiB | 29.16 MiB/s, done.\n",
            "Resolving deltas: 100% (184/184), done.\n",
            "Processing ./idrfeatlib\n",
            "  Preparing metadata (setup.py) ... \u001b[?25l\u001b[?25hdone\n",
            "Building wheels for collected packages: idrfeatlib\n",
            "  Building wheel for idrfeatlib (setup.py) ... \u001b[?25l\u001b[?25hdone\n",
            "  Created wheel for idrfeatlib: filename=idrfeatlib-0.0.0-py3-none-any.whl size=31330 sha256=9344708e8bf306ea89b25c42433384a53d669c540de9b9baf9c87d24dba59017\n",
            "  Stored in directory: /tmp/pip-ephem-wheel-cache-qwooo6qu/wheels/fd/73/2d/1c5cfad6d18b968112550482fad0b8617d5ba1997a480307db\n",
            "Successfully built idrfeatlib\n",
            "Installing collected packages: idrfeatlib\n",
            "  Attempting uninstall: idrfeatlib\n",
            "    Found existing installation: idrfeatlib 0.0.0\n",
            "    Uninstalling idrfeatlib-0.0.0:\n",
            "      Successfully uninstalled idrfeatlib-0.0.0\n",
            "Successfully installed idrfeatlib-0.0.0\n"
          ]
        },
        {
          "output_type": "display_data",
          "data": {
            "application/vnd.colab-display-data+json": {
              "pip_warning": {
                "packages": [
                  "idrfeatlib"
                ]
              },
              "id": "468c4a37c37043a68c66ed2225a4d091"
            }
          },
          "metadata": {}
        }
      ]
    },
    {
      "cell_type": "code",
      "execution_count": 2,
      "metadata": {
        "id": "c-7itQrJqTI-"
      },
      "outputs": [],
      "source": [
        "# Prepare/define the featurization scripts.\n",
        "\n",
        "def main(args):\n",
        "    \"\"\"\n",
        "    Taken from idrfeatlib/featurize.py (25-07-24) @tianh.\n",
        "    \"\"\"\n",
        "    from idrfeatlib.utils import read_fasta, read_regions_csv, iter_nested\n",
        "    from idrfeatlib import FeatureVector\n",
        "    from idrfeatlib.featurizer import Featurizer, compile_featurizer\n",
        "    from idrfeatlib.native import compile_native_featurizer\n",
        "    import json\n",
        "    import tqdm\n",
        "    import sys\n",
        "    if args.feature_file:\n",
        "        with open(args.feature_file, \"r\") as file:\n",
        "            config = json.load(file)\n",
        "        featurizer, errors = compile_featurizer(config)\n",
        "    else:\n",
        "        featurizer, errors = compile_native_featurizer()\n",
        "    for featname, error in errors.items():\n",
        "        print(\"error compiling `%s`: %s\" % (featname, error), file=sys.stderr)\n",
        "    featurizer = Featurizer(featurizer)\n",
        "    fa = read_fasta(args.input_sequences)\n",
        "    if args.input_regions is None:\n",
        "        seqs = tqdm.tqdm(fa, total=len(fa), desc=\"featurizing sequences\")\n",
        "        feature_vectors, errors = featurizer.featurize_to_matrices(seqs)\n",
        "        for proteinid, error in errors.items():\n",
        "            print(\"error for `%s`: %s\" % (proteinid, error), file=sys.stderr)\n",
        "        FeatureVector.dump(list(feature_vectors.items()), args.output_file, \"ProteinID\")\n",
        "    else:\n",
        "        fa = dict(fa)\n",
        "        regions = read_regions_csv(args.input_regions)\n",
        "        seqs = []\n",
        "        for protid, regionid, (start, stop) in iter_nested(regions, 2):\n",
        "            if (entry := fa.get(protid)) is None:\n",
        "                continue\n",
        "            whole_seq = entry\n",
        "            assert isinstance(whole_seq, str), type(whole_seq)\n",
        "            seq = whole_seq[start:stop]\n",
        "            if len(seq) != stop - start:\n",
        "                print(\"invalid region `%s` for protein `%s` (start=%d,stop=%d,seqlen=%s)\" % (regionid, protid, start, stop, len(whole_seq)))\n",
        "                continue\n",
        "            seqs.append(((protid, regionid), seq))\n",
        "        feature_vectors, errors = featurizer.featurize_to_matrices(tqdm.tqdm(seqs, desc=\"featurizing sequences\"))\n",
        "        for (protid, regionid), error in errors.items():\n",
        "            print(\"error for (protid=%s, regionid=%s): %s\" % (protid, regionid, error), file=sys.stderr)\n",
        "        FeatureVector.dump(list(feature_vectors.items()), args.output_file, (\"ProteinID\", \"RegionID\"))\n",
        "\n",
        "\n",
        "def run_colab_wrapper(output_name):\n",
        "    \"\"\"\n",
        "    My `main` function expects an argparse.Namespace and I'm not changing it\n",
        "    so most of this function is weirdly constructing this one Namespace object\n",
        "    \"\"\"\n",
        "    from google.colab import files\n",
        "    import os\n",
        "    import argparse\n",
        "\n",
        "    # The aforementioned Namespace object, starting as an empty args\n",
        "    args = argparse.ArgumentParser().parse_args([])\n",
        "\n",
        "    args.input_sequences = 'input_sequences.fasta'\n",
        "    goto_upload = True\n",
        "    if os.path.exists(args.input_sequences):\n",
        "        choice = input(f\"The file {args.input_sequences} already exists. Would you like to overwrite it? (y/n)\")\n",
        "        if choice.lower() != 'y':\n",
        "            goto_upload = False\n",
        "    if goto_upload:\n",
        "        files.upload_file(args.input_sequences)\n",
        "\n",
        "    choice = input(\"Would you like to upload a file containing region boundaries? (y/n)\")\n",
        "    if choice.lower() == 'y':\n",
        "        args.input_regions = 'input_regions.csv'\n",
        "        files.upload_file(args.input_regions)\n",
        "    else:\n",
        "        args.input_regions = None\n",
        "\n",
        "    args.feature_file = 'feature_config.json'\n",
        "    goto_upload = True\n",
        "    if os.path.exists(args.feature_file):\n",
        "        choice = input(f\"The file {args.feature_file} already exists. Would you like to overwrite it? (y/n)\")\n",
        "        if choice.lower() != 'y':\n",
        "            goto_upload = False\n",
        "            print(f\"Ignoring {args.feature_file}\")\n",
        "    else:\n",
        "        choice = input(\"Would you like to upload a file containing feature configuration? (y/n)\")\n",
        "        if choice.lower() != 'y':\n",
        "            goto_upload = False\n",
        "    if goto_upload:\n",
        "        files.upload_file(args.feature_file)\n",
        "    else:\n",
        "        args.feature_file = None\n",
        "\n",
        "    abort = False\n",
        "    args.output_file = output_name\n",
        "    if os.path.exists(args.output_file):\n",
        "        choice = input(f\"The file {args.output_file} already exists. Would you like to overwrite it? (y/n)\")\n",
        "        if choice.lower() != 'y':\n",
        "            abort = True\n",
        "    if abort:\n",
        "        print(\"Aborting because .\")\n",
        "        return\n",
        "    main(args)\n",
        "    print(f\"Downloading output file to {args.output_file}\")\n",
        "    files.download(args.output_file)"
      ]
    },
    {
      "cell_type": "code",
      "source": [
        "# This cell will:\n",
        "#\n",
        "# 1. Ask for input files\n",
        "# 2. Featurize sequences in the appropriate file\n",
        "# 3. Ask to download the output file, called `output_features.csv`\n",
        "\n",
        "run_colab_wrapper(\"output_features.csv\")\n"
      ],
      "metadata": {
        "colab": {
          "base_uri": "https://localhost:8080/",
          "height": 136
        },
        "id": "BS5xozdVZgmj",
        "outputId": "ccbcc389-8aee-4355-a846-c72d7f68377f"
      },
      "execution_count": 5,
      "outputs": [
        {
          "name": "stdout",
          "output_type": "stream",
          "text": [
            "The file input_sequences.fasta already exists. Would you like to overwrite it? (y/n)n\n",
            "Would you like to upload a file containing region boundaries? (y/n)n\n",
            "Would you like to upload a file containing feature configuration? (y/n)n\n",
            "The file output_features.csv already exists. Would you like to overwrite it? (y/n)y\n"
          ]
        },
        {
          "output_type": "stream",
          "name": "stderr",
          "text": [
            "featurizing sequences: 100%|██████████| 689/689 [00:06<00:00, 106.95it/s]\n",
            "error for `YOR248W`: {'arospacing': ValueError('sequence has no aromatic residues')}\n"
          ]
        },
        {
          "output_type": "stream",
          "name": "stdout",
          "text": [
            "Downloading output file to output_features.csv\n"
          ]
        },
        {
          "output_type": "display_data",
          "data": {
            "text/plain": [
              "<IPython.core.display.Javascript object>"
            ],
            "application/javascript": [
              "\n",
              "    async function download(id, filename, size) {\n",
              "      if (!google.colab.kernel.accessAllowed) {\n",
              "        return;\n",
              "      }\n",
              "      const div = document.createElement('div');\n",
              "      const label = document.createElement('label');\n",
              "      label.textContent = `Downloading \"${filename}\": `;\n",
              "      div.appendChild(label);\n",
              "      const progress = document.createElement('progress');\n",
              "      progress.max = size;\n",
              "      div.appendChild(progress);\n",
              "      document.body.appendChild(div);\n",
              "\n",
              "      const buffers = [];\n",
              "      let downloaded = 0;\n",
              "\n",
              "      const channel = await google.colab.kernel.comms.open(id);\n",
              "      // Send a message to notify the kernel that we're ready.\n",
              "      channel.send({})\n",
              "\n",
              "      for await (const message of channel.messages) {\n",
              "        // Send a message to notify the kernel that we're ready.\n",
              "        channel.send({})\n",
              "        if (message.buffers) {\n",
              "          for (const buffer of message.buffers) {\n",
              "            buffers.push(buffer);\n",
              "            downloaded += buffer.byteLength;\n",
              "            progress.value = downloaded;\n",
              "          }\n",
              "        }\n",
              "      }\n",
              "      const blob = new Blob(buffers, {type: 'application/binary'});\n",
              "      const a = document.createElement('a');\n",
              "      a.href = window.URL.createObjectURL(blob);\n",
              "      a.download = filename;\n",
              "      div.appendChild(a);\n",
              "      a.click();\n",
              "      div.remove();\n",
              "    }\n",
              "  "
            ]
          },
          "metadata": {}
        },
        {
          "output_type": "display_data",
          "data": {
            "text/plain": [
              "<IPython.core.display.Javascript object>"
            ],
            "application/javascript": [
              "download(\"download_a568f141-f715-473a-95f8-59861baf3e32\", \"output_features.csv\", 633742)"
            ]
          },
          "metadata": {}
        }
      ]
    }
  ]
}